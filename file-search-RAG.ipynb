{
 "cells": [
  {
   "cell_type": "code",
   "execution_count": 1,
   "id": "616b494a-d57c-4d9a-9699-6703319fd9e6",
   "metadata": {},
   "outputs": [
    {
     "name": "stderr",
     "output_type": "stream",
     "text": [
      "OPENAI_API_KEY is not set, skipping trace export\n",
      "OPENAI_API_KEY is not set, skipping trace export\n",
      "OPENAI_API_KEY is not set, skipping trace export\n"
     ]
    }
   ],
   "source": [
    "import openai\n",
    "import os\n",
    "import webbrowser\n",
    "from agents import Agent, Runner, FileSearchTool"
   ]
  },
  {
   "cell_type": "code",
   "execution_count": 2,
   "id": "a191d5c7-cd05-4a34-8b5d-eddc4be47cb3",
   "metadata": {},
   "outputs": [],
   "source": [
    "openai_apikey = \"\"\n",
    "os.environ[\"OPENAI_API_KEY\"]=openai_apikey\n",
    "openai.api_key = openai_apikey"
   ]
  },
  {
   "cell_type": "code",
   "execution_count": 12,
   "id": "8d0ca1fd-afe5-4012-aa6a-d40dfab458ea",
   "metadata": {},
   "outputs": [
    {
     "name": "stdout",
     "output_type": "stream",
     "text": [
      " Agent created: RAGAgent\n"
     ]
    }
   ],
   "source": [
    "rag_agent = Agent(\n",
    "    name=\"RAGAgent\",\n",
    "    instructions=\"Search for information in Vector DB.\",\n",
    "    tools=[FileSearchTool(vector_store_ids=[\"vs_671\"])]   \n",
    ")\n",
    "print(f\" Agent created: {rag_agent.name}\")"
   ]
  },
  {
   "cell_type": "code",
   "execution_count": 13,
   "id": "c6a73195-a61f-40b7-92d4-45ba10d9578a",
   "metadata": {},
   "outputs": [],
   "source": [
    "async def search_vector(prompt):\n",
    "    # Use Runner.run instead of Runner.run_sync to avoid Jupyter event loop conflict\n",
    "    response = await Runner.run(rag_agent, prompt)\n",
    "    print(response.final_output)\n",
    "    return response"
   ]
  },
  {
   "cell_type": "code",
   "execution_count": 14,
   "id": "bb7ccf16-746d-4ffb-a693-2e0c61e2a27c",
   "metadata": {},
   "outputs": [
    {
     "name": "stdout",
     "output_type": "stream",
     "text": [
      "Gaelic Ireland emerged by the 1st century AD.\n",
      "Gaelic Ireland emerged by the 1st century AD.\n"
     ]
    }
   ],
   "source": [
    "input=\"When did Gaelic Ireland emerge?\"\n",
    "response = await search_vector(input)\n",
    "print(response.final_output)"
   ]
  },
  {
   "cell_type": "code",
   "execution_count": null,
   "id": "599ccba4-8d68-4c25-9b42-18684667c6e8",
   "metadata": {},
   "outputs": [],
   "source": []
  }
 ],
 "metadata": {
  "kernelspec": {
   "display_name": "Python 3 (ipykernel)",
   "language": "python",
   "name": "python3"
  },
  "language_info": {
   "codemirror_mode": {
    "name": "ipython",
    "version": 3
   },
   "file_extension": ".py",
   "mimetype": "text/x-python",
   "name": "python",
   "nbconvert_exporter": "python",
   "pygments_lexer": "ipython3",
   "version": "3.13.2"
  }
 },
 "nbformat": 4,
 "nbformat_minor": 5
}
