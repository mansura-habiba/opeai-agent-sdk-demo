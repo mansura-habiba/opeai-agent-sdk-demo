{
 "cells": [
  {
   "cell_type": "markdown",
   "id": "3cf75bb4-0319-4202-888c-2c39cfb513cd",
   "metadata": {},
   "source": [
    "## Implementation Details\n",
    "- GuardrailAgent → Checks if the user query is AI-related.\n",
    "- NewsFetcherAgent → Uses WebSearchTool to retrieve AI news.\n",
    "- SummarizerAgent → Uses FunctionTool to summarize news.\n",
    "- InsightsAgent → Uses FunctionTool to generate AI trends.\n",
    "-  TriageAgent → Routes queries between the Summarizer and Insights Generator based on relevance.\n",
    "\n",
    "## Import Libraries"
   ]
  },
  {
   "cell_type": "code",
   "execution_count": 1,
   "id": "3024501e-c98a-4dd8-a33f-a0731baf2ffb",
   "metadata": {},
   "outputs": [
    {
     "name": "stderr",
     "output_type": "stream",
     "text": [
      "OPENAI_API_KEY is not set, skipping trace export\n",
      "OPENAI_API_KEY is not set, skipping trace export\n",
      "OPENAI_API_KEY is not set, skipping trace export\n",
      "OPENAI_API_KEY is not set, skipping trace export\n",
      "OPENAI_API_KEY is not set, skipping trace export\n"
     ]
    }
   ],
   "source": [
    "import openai\n",
    "from agents import( Agent, InputGuardrail, GuardrailFunctionOutput,\n",
    "    InputGuardrailTripwireTriggered,\n",
    "    RunContextWrapper,\n",
    "    Runner,\n",
    "    TResponseInputItem,\n",
    "    input_guardrail, Runner, WebSearchTool, FunctionTool)\n",
    "\n",
    "from pydantic import BaseModel, Field\n",
    "import asyncio\n",
    "from typing import List\n",
    "import os"
   ]
  },
  {
   "cell_type": "markdown",
   "id": "f6386101-7915-4039-bd17-9d1df298c40b",
   "metadata": {},
   "source": [
    "## Load API Key"
   ]
  },
  {
   "cell_type": "code",
   "execution_count": 2,
   "id": "31cc309d-535c-4f79-a321-78b27321f56d",
   "metadata": {},
   "outputs": [],
   "source": [
    "openai_apikey = \"\"\n",
    "os.environ[\"OPENAI_API_KEY\"]=openai_apikey\n",
    "openai.api_key = openai_apikey"
   ]
  },
  {
   "cell_type": "markdown",
   "id": "ffd62f22-3125-4cf9-bb1a-9c9d419e05ff",
   "metadata": {},
   "source": [
    "## Step 1: Define the Guardrail Output Schema"
   ]
  },
  {
   "cell_type": "code",
   "execution_count": 3,
   "id": "3ab3cbdf-ad68-4391-a692-fa12de51a64c",
   "metadata": {},
   "outputs": [],
   "source": [
    "class AIQueryOutput(BaseModel):\n",
    "    is_ai_related: bool\n",
    "    reasoning: str"
   ]
  },
  {
   "cell_type": "markdown",
   "id": "dcb0e5df-f177-4712-b689-60bd252fbaa4",
   "metadata": {},
   "source": [
    "## Step 2: Create the Guardrail Agent"
   ]
  },
  {
   "cell_type": "code",
   "execution_count": 4,
   "id": "1f5ba910-21ef-4eed-9e92-5c03c11241f5",
   "metadata": {},
   "outputs": [],
   "source": [
    "guardrail_agent = Agent(\n",
    "    name=\"Guardrail Check\",\n",
    "    instructions=\"Determine if the user query is related to AI advancements.\",\n",
    "    output_type=AIQueryOutput,\n",
    ")"
   ]
  },
  {
   "cell_type": "markdown",
   "id": "8bc6fe0d-c6b6-4f13-97ab-c7adc492450b",
   "metadata": {},
   "source": [
    "# Step 3: Define NewsFetcher Agent"
   ]
  },
  {
   "cell_type": "code",
   "execution_count": 5,
   "id": "9356ac41-3bdc-487b-b8d5-c195168cbf29",
   "metadata": {},
   "outputs": [],
   "source": [
    "web_search_tool = WebSearchTool()\n",
    "\n",
    "news_fetcher_agent = Agent(\n",
    "    name=\"NewsFetcher\",\n",
    "    handoff_description=\"Agent responsible for retrieving the latest AI news.\",\n",
    "    instructions=\"Use WebSearchTool to find the latest news on AI advancements.\",\n",
    "    tools=[web_search_tool],\n",
    ")"
   ]
  },
  {
   "cell_type": "markdown",
   "id": "87d06001-7a1d-4966-be10-5e961da79714",
   "metadata": {},
   "source": [
    "## Step 4: Define Input Schema for Summarization"
   ]
  },
  {
   "cell_type": "code",
   "execution_count": 6,
   "id": "1daf600c-1427-4248-bb13-273d79edaa7f",
   "metadata": {},
   "outputs": [],
   "source": [
    "class Article(BaseModel):\n",
    "    \"\"\"Schema for a news article fetched by NewsFetcher.\"\"\"\n",
    "    title: str\n",
    "    snippet: str\n",
    "    url: str  # Optional: Add source URL for reference\n",
    "\n",
    "class NewsResponse(BaseModel):\n",
    "    \"\"\"Response schema for the NewsFetcher agent.\"\"\"\n",
    "    articles: List[Article]\n",
    "\n",
    "class SummaryResponse(BaseModel):\n",
    "    \"\"\"Response schema for the Summarizer agent.\"\"\"\n",
    "    summaries: List[str]\n",
    "\n",
    "class InsightsResponse(BaseModel):\n",
    "    \"\"\"Response schema for the Insights agent.\"\"\"\n",
    "    insights: List[str]"
   ]
  },
  {
   "cell_type": "markdown",
   "id": "2de3efa7-fdce-4786-963d-e9d96cab4c6d",
   "metadata": {},
   "source": [
    "## Step 5: Define Summarizer Function"
   ]
  },
  {
   "cell_type": "code",
   "execution_count": 7,
   "id": "c7d283de-0346-4d74-924e-541b25cbbb9b",
   "metadata": {},
   "outputs": [],
   "source": [
    "def summarize_articles(news_response_json: str):\n",
    "    print(\"\\n [DEBUG] Summarizer received JSON input:\\n\", news_response_json)\n",
    "\n",
    "    # Deserialize JSON into a Pydantic model\n",
    "    try:\n",
    "        news_response = NewsResponse.model_validate_json(news_response_json)\n",
    "    except Exception as e:\n",
    "        print(\"\\n [ERROR] Summarizer: Invalid input format!\\n\", str(e))\n",
    "        return SummaryResponse(summaries=[\"Error: Invalid input format.\"])\n",
    "\n",
    "    print(\"\\n[DEBUG] Summarizer parsed input correctly.\")\n",
    "\n",
    "    summaries = [\n",
    "        f\"Summary: {article.title} - {article.snippet}\" for article in news_response.articles[:3]\n",
    "    ]\n",
    "    \n",
    "    return SummaryResponse(summaries=summaries)"
   ]
  },
  {
   "cell_type": "markdown",
   "id": "0e03ebf1-4adb-4b53-a1be-bb7eeb310b32",
   "metadata": {},
   "source": [
    "## Step 6: Create FunctionTool for Summarization"
   ]
  },
  {
   "cell_type": "code",
   "execution_count": 9,
   "id": "47695548-7aa7-40db-baf5-4e23070eae9e",
   "metadata": {},
   "outputs": [],
   "source": [
    "summarizer_tool = FunctionTool(\n",
    "    name=\"Summarizer\",\n",
    "    description=\"Summarizes key points from AI-related news articles.\",\n",
    "    params_json_schema=SummaryResponse.model_json_schema(),\n",
    "    on_invoke_tool=summarize_articles,\n",
    ")"
   ]
  },
  {
   "cell_type": "code",
   "execution_count": 10,
   "id": "e14091be-4995-4955-bbac-39ad93ee82d5",
   "metadata": {},
   "outputs": [],
   "source": [
    "summarizer_agent = Agent(\n",
    "    name=\"Summarizer\",\n",
    "    handoff_description=\"Agent responsible for summarizing news articles.\",\n",
    "    instructions=\"Summarize key points from news articles.\",\n",
    "    tools=[summarizer_tool],\n",
    ")"
   ]
  },
  {
   "cell_type": "markdown",
   "id": "fdf7c9c9-97e9-4a72-9431-8427864e6eaa",
   "metadata": {},
   "source": [
    "## Step 8: Define Insights Generation Function"
   ]
  },
  {
   "cell_type": "code",
   "execution_count": 11,
   "id": "705c6044-74cc-42ac-9402-b2f725596bd0",
   "metadata": {},
   "outputs": [],
   "source": [
    "def generate_insights(summary_response_json: str):\n",
    "    print(\" [DEBUG] InsightsAgent received JSON input:\\n\", summary_response_json)\n",
    "\n",
    "    # Deserialize JSON into a Pydantic model\n",
    "    try:\n",
    "        summary_response = SummaryResponse.model_validate_json(summary_response_json)\n",
    "    except Exception as e:\n",
    "        print(\" [ERROR] InsightsAgent: Invalid input format!\\n\", str(e))\n",
    "        return InsightsResponse(insights=[\"Error: Invalid input format.\"])\n",
    "\n",
    "    print(\"\\n[DEBUG] InsightsAgent parsed input correctly.\")\n",
    "\n",
    "    insights = [\n",
    "        f\"AI Trend Detected: {summary.split(':')[1].strip()}\" for summary in summary_response.summaries if \"AI\" in summary\n",
    "    ]\n",
    "    \n",
    "    return InsightsResponse(insights=insights)\n"
   ]
  },
  {
   "cell_type": "markdown",
   "id": "571851d5-dbdd-4aaf-9039-e91bb5446766",
   "metadata": {},
   "source": [
    "## Step 9: Create FunctionTool for AI Insights"
   ]
  },
  {
   "cell_type": "code",
   "execution_count": 12,
   "id": "d7642417-26a3-4f0d-92a0-e93249967bc7",
   "metadata": {},
   "outputs": [],
   "source": [
    "insights_tool = FunctionTool(\n",
    "    name=\"InsightsGenerator\",\n",
    "    description=\"Generates AI trends and insights from summarized articles.\",\n",
    "    params_json_schema=InsightsResponse.model_json_schema(),\n",
    "    on_invoke_tool=generate_insights,\n",
    ")"
   ]
  },
  {
   "cell_type": "markdown",
   "id": "1c52001a-56d2-4d1f-b452-ca34bb2e42ca",
   "metadata": {},
   "source": [
    "## Step 10: Create an agent for AI Insights"
   ]
  },
  {
   "cell_type": "code",
   "execution_count": 13,
   "id": "8b0ab47f-92eb-4690-8197-60dc95514b34",
   "metadata": {},
   "outputs": [],
   "source": [
    "insights_agent = Agent(\n",
    "    name=\"InsightsAgent\",\n",
    "    handoff_description=\"Agent responsible for analyzing AI trends.\",\n",
    "    instructions=\"Generate insights and trends based on summarized AI news.\",\n",
    "    tools=[insights_tool],\n",
    ")"
   ]
  },
  {
   "cell_type": "markdown",
   "id": "5d44156b-abd7-49a3-b81a-f08f14c99db8",
   "metadata": {},
   "source": [
    "## Step 11: Implement the Guardrail Function"
   ]
  },
  {
   "cell_type": "code",
   "execution_count": 14,
   "id": "c5153c6d-2355-420e-9f88-e825650b6e06",
   "metadata": {},
   "outputs": [],
   "source": [
    "\n",
    "@input_guardrail\n",
    "async def ai_guardrail(ctx: RunContextWrapper[None], agent: Agent, input_data: str | list[TResponseInputItem]\n",
    ") -> GuardrailFunctionOutput:\n",
    "    result = await Runner.run(guardrail_agent, input_data, context=ctx.context)\n",
    "    final_output = result.final_output_as(AIQueryOutput)\n",
    "    \n",
    "    # Debugging prints\n",
    "    print(f\"[Guardrail] User Input: {input_data}\")\n",
    "    print(f\"[Guardrail] Validation Result: {final_output.is_ai_related} - {final_output.reasoning}\")\n",
    "\n",
    "    # Ensure correct logic\n",
    "    return GuardrailFunctionOutput(\n",
    "        output_info=final_output,\n",
    "        tripwire_triggered=not final_output.is_ai_related,  # Only trigger if it's NOT AI-related\n",
    "    )"
   ]
  },
  {
   "cell_type": "markdown",
   "id": "649843f0-3679-4f38-be7f-23f47f5dd775",
   "metadata": {},
   "source": [
    "## Step 12: Create the Triage Agent"
   ]
  },
  {
   "cell_type": "code",
   "execution_count": 15,
   "id": "3bff87c2-6e3f-47ad-a7ef-886cc6047017",
   "metadata": {},
   "outputs": [],
   "source": [
    "triage_agent = Agent(\n",
    "    name=\"TriageAgent\",\n",
    "    instructions=\"Route the query to either the Summarizer or Insights Agent based on AI relevance.\",\n",
    "    handoffs=[news_fetcher_agent, summarizer_agent, insights_agent],\n",
    "    input_guardrails=[ ai_guardrail],\n",
    ")\n"
   ]
  },
  {
   "cell_type": "markdown",
   "id": "4aea250b-269d-4309-a167-57d76528d844",
   "metadata": {},
   "source": [
    "## Step 13: Execute the Hands-Off Workflow "
   ]
  },
  {
   "cell_type": "code",
   "execution_count": 16,
   "id": "34a656af-0e4f-4f7a-aa6a-d6f66d55c6f8",
   "metadata": {},
   "outputs": [],
   "source": [
    "async def main(input):\n",
    "    try:\n",
    "        result = await Runner.run(triage_agent, input)\n",
    "        print(result.final_output)\n",
    "    except InputGuardrailTripwireTriggered:\n",
    "        print(\"AI News Search guardrail tripped\")  "
   ]
  },
  {
   "cell_type": "markdown",
   "id": "30c4d71a-8807-48a9-a161-b1b2490320b8",
   "metadata": {},
   "source": [
    "## Test Case 1: Fetch AI News and Generate Insights"
   ]
  },
  {
   "cell_type": "code",
   "execution_count": 17,
   "id": "32a88e6c-3478-4259-a440-775eed4b02b0",
   "metadata": {},
   "outputs": [
    {
     "name": "stdout",
     "output_type": "stream",
     "text": [
      "[Guardrail] User Input: What are the latest advancements in AI?\n",
      "[Guardrail] Validation Result: True - The query explicitly asks about the latest advancements in AI, which directly relates to developments in the field of artificial intelligence.\n",
      "Artificial intelligence (AI) has experienced significant advancements recently, impacting various sectors and applications. Here are some of the latest developments:\n",
      "\n",
      "**Enhanced Robotics Capabilities**\n",
      "\n",
      "Companies like Google DeepMind and Microsoft have developed robots capable of complex tasks such as folding origami, organizing desks, and performing kitchen duties. These robots utilize large language models to adapt to diverse environments and learn rapidly from internet-sourced data. While challenges remain, such as improving autonomous human interactions and adapting to unpredictable settings, these advancements promise substantial benefits, including supporting a shrinking workforce and aiding in disaster recovery. ([ft.com](https://www.ft.com/content/62b89c94-e5be-4093-97a5-d934c153662b?utm_source=openai))\n",
      "\n",
      "**Advancements in Quantum Computing**\n",
      "\n",
      "In 2024, Google's quantum computer, Willow, solved a mathematical problem beyond the capacity of the fastest supercomputers. This breakthrough highlights the potential of quantum computing in various applications, including battery design and drug discovery. ([theatlantic.com](https://www.theatlantic.com/ideas/archive/2024/12/2024-scientific-technological-advancements/681158/?utm_source=openai))\n",
      "\n",
      "**Integration of AI into Everyday Tools**\n",
      "\n",
      "The focus in 2024 shifted towards developing practical AI applications. Generative AI technologies have been integrated into everyday tools like Google Search and photo editing software, enhancing productivity and user experience. However, challenges such as high costs, energy demands, and concerns about job displacement persist. ([apnews.com](https://apnews.com/article/0b6ab89193265c3f60f382bae9bbabc9?utm_source=openai))\n",
      "\n",
      "**Development of Autonomous AI Agents**\n",
      "\n",
      "Looking ahead to 2025, autonomous agents capable of performing tasks like making purchases and scheduling meetings independently are expected to dominate the AI agenda. These agents are anticipated to enhance productivity and profitability across various business functions. ([reuters.com](https://www.reuters.com/technology/artificial-intelligence/autonomous-agents-profitability-dominate-ai-agenda-2025-executives-forecast-2024-12-12/?utm_source=openai))\n",
      "\n",
      "**Advancements in AI Language Models**\n",
      "\n",
      "OpenAI's GPT-3, with 175 billion parameters, has revolutionized natural language processing tasks such as translation, summarization, and question-answering across multiple languages. Its ability to generate human-like text has significantly impacted the creative space. ([mp.moonpreneur.com](https://mp.moonpreneur.com/blog/latest-developments-in-artificial-intelligence/?utm_source=openai))\n",
      "\n",
      "**Progress in Computer Vision**\n",
      "\n",
      "Computer vision has seen significant progress, enabling robots to achieve human-level performance in tasks like object detection and emotion recognition. Convolutional Neural Networks (CNNs) have been pivotal in processing visual data, with applications spanning manufacturing, retail, and entertainment industries. ([mp.moonpreneur.com](https://mp.moonpreneur.com/blog/latest-developments-in-artificial-intelligence/?utm_source=openai))\n",
      "\n",
      "**AI in Healthcare**\n",
      "\n",
      "AI plays a critical role in personalized medicine by assisting in designing treatment plans based on patients' health histories and genetic makeup. Advancements in medical imaging algorithms have surpassed human capabilities in diagnosing diseases from X-rays, MRIs, and CT scans, leading to earlier and more effective treatments. ([mp.moonpreneur.com](https://mp.moonpreneur.com/blog/latest-developments-in-artificial-intelligence/?utm_source=openai))\n",
      "\n",
      "\n",
      "## Recent Developments in AI:\n",
      "- [Robots are getting smarter - and that's a good thing](https://www.ft.com/content/62b89c94-e5be-4093-97a5-d934c153662b?utm_source=openai)\n",
      "- [The Most Important Breakthroughs of 2024](https://www.theatlantic.com/ideas/archive/2024/12/2024-scientific-technological-advancements/681158/?utm_source=openai)\n",
      "- [In 2024, artificial intelligence was all about putting AI tools to work](https://apnews.com/article/0b6ab89193265c3f60f382bae9bbabc9?utm_source=openai) \n"
     ]
    }
   ],
   "source": [
    "input1= \"What are the latest advancements in AI?\"\n",
    "await main(input1)"
   ]
  },
  {
   "cell_type": "markdown",
   "id": "866c3be5-716c-4dda-9289-f16b39fe7449",
   "metadata": {},
   "source": [
    "## **Test Case 2: Unrelated Query (Should be Blocked)**"
   ]
  },
  {
   "cell_type": "code",
   "execution_count": 18,
   "id": "8cbd9918-0794-49ea-9e9a-fa934c96e3ea",
   "metadata": {},
   "outputs": [
    {
     "name": "stdout",
     "output_type": "stream",
     "text": [
      "[Guardrail] User Input: How do I bake a cake?\n",
      "[Guardrail] Validation Result: False - The query is about baking a cake, which is a cooking task and does not involve artificial intelligence or its advancements.\n",
      "AI News Search guardrail tripped\n"
     ]
    }
   ],
   "source": [
    "\n",
    "input2=  \"How do I bake a cake?\"\n",
    "await main(input2)"
   ]
  }
 ],
 "metadata": {
  "kernelspec": {
   "display_name": "Python 3 (ipykernel)",
   "language": "python",
   "name": "python3"
  },
  "language_info": {
   "codemirror_mode": {
    "name": "ipython",
    "version": 3
   },
   "file_extension": ".py",
   "mimetype": "text/x-python",
   "name": "python",
   "nbconvert_exporter": "python",
   "pygments_lexer": "ipython3",
   "version": "3.13.2"
  }
 },
 "nbformat": 4,
 "nbformat_minor": 5
}
