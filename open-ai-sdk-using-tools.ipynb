{
 "cells": [
  {
   "cell_type": "markdown",
   "id": "2e4dd02e-3549-4eb2-aada-3993926049c6",
   "metadata": {},
   "source": [
    "# Overview\n",
    "\n",
    "This project demonstrates how to create two AI-powered agents using OpenAI's openai-agents SDK:\n",
    "\n",
    "## Stock Analysis Agent\n",
    "\n",
    "- Fetches live stock data from Yahoo Finance using WebSearchTool.\n",
    "- Parses key stock metrics (closing price, 50-day SMA, 200-day SMA, volatility).\n",
    "- Uses OpenAI’s GPT to analyze the data and generate investment insights.\n",
    "- Visualizes insights using tables and bar charts."
   ]
  },
  {
   "cell_type": "markdown",
   "id": "39d371c5",
   "metadata": {},
   "source": [
    "## 1️.  Install Required Packages"
   ]
  },
  {
   "cell_type": "code",
   "execution_count": 14,
   "id": "23982288",
   "metadata": {},
   "outputs": [],
   "source": [
    "%%capture\n",
    "!pip3 install openai-agents"
   ]
  },
  {
   "cell_type": "markdown",
   "id": "ca905792",
   "metadata": {},
   "source": [
    "## 2️. Import Required Libraries"
   ]
  },
  {
   "cell_type": "code",
   "execution_count": 15,
   "id": "22589ad9",
   "metadata": {},
   "outputs": [],
   "source": [
    "import openai\n",
    "from agents import Agent, Runner, WebSearchTool\n",
    "import os\n",
    "import re\n",
    "import pandas as pd\n",
    "import matplotlib.pyplot as plt"
   ]
  },
  {
   "cell_type": "markdown",
   "id": "9f700c79",
   "metadata": {},
   "source": [
    "## 3️. Set Up OpenAI API Key"
   ]
  },
  {
   "cell_type": "code",
   "execution_count": 17,
   "id": "4877abb0",
   "metadata": {},
   "outputs": [],
   "source": [
    "openai_apikey = \"\"\n",
    "os.environ[\"OPENAI_API_KEY\"]=openai_apikey\n",
    "openai.api_key = openai_apikey\n"
   ]
  },
  {
   "cell_type": "markdown",
   "id": "fb9c0ed4",
   "metadata": {},
   "source": [
    "## 4️. Create a Stock Analysis Agent Using WebSearchTool"
   ]
  },
  {
   "cell_type": "code",
   "execution_count": 23,
   "id": "ef3fe63e",
   "metadata": {},
   "outputs": [
    {
     "name": "stdout",
     "output_type": "stream",
     "text": [
      " Agent created: StockAnalysisAgent\n"
     ]
    }
   ],
   "source": [
    "# Create an agent with WebSearchTool enabled\n",
    "stock_agent = Agent(\n",
    "    name=\"StockAnalysisAgent\",\n",
    "    instructions=\"Fetch real-time stock data from Yahoo Finance, analyze trends, and provide insights.\",\n",
    "    tools=[WebSearchTool()]  # Enable web search capability\n",
    ")\n",
    "\n",
    "print(f\" Agent created: {stock_agent.name}\")"
   ]
  },
  {
   "cell_type": "markdown",
   "id": "eee20a8c",
   "metadata": {},
   "source": [
    "## 5️. Fetch Stock Data Using WebSearchTool"
   ]
  },
  {
   "cell_type": "code",
   "execution_count": 24,
   "id": "48080bdd",
   "metadata": {},
   "outputs": [],
   "source": [
    "async def get_stock_data_from_web(ticker):\n",
    "    \"\"\"Use WebSearchTool to fetch stock data from Yahoo Finance.\"\"\"\n",
    "    search_query = f\"{ticker} stock price site:finance.yahoo.com\"\n",
    "    \n",
    "    prompt = f\"Search for '{search_query}' and extract the latest closing price, 50-day SMA, 200-day SMA, and volatility.\"\n",
    "\n",
    "    # Run the web search tool\n",
    "    response = await Runner.run(stock_agent, prompt)\n",
    "    \n",
    "    return response\n"
   ]
  },
  {
   "cell_type": "markdown",
   "id": "b7a7f06c",
   "metadata": {},
   "source": [
    "## 6️. Extract Stock Information"
   ]
  },
  {
   "cell_type": "code",
   "execution_count": 25,
   "id": "a33f42eb",
   "metadata": {},
   "outputs": [],
   "source": [
    "def extract_stock_info(response_text):\n",
    "    \"\"\"Extract numerical stock values from web search results.\"\"\"\n",
    "    data_extracted = {\n",
    "        \"Metric\": [\"Last Closing Price\", \"50-day SMA\", \"200-day SMA\", \"Volatility\"],\n",
    "        \"Value\": []\n",
    "    }\n",
    "    \n",
    "    # Use regex to extract values\n",
    "    patterns = {\n",
    "        \"Last Closing Price\": r\"Last Closing Price: \\$([\\d,.]+)\",\n",
    "        \"50-day SMA\": r\"50-day SMA: \\$([\\d,.]+)\",\n",
    "        \"200-day SMA\": r\"200-day SMA: \\$([\\d,.]+|Not available)\",\n",
    "        \"Volatility\": r\"Volatility: ([\\d.]+)\"\n",
    "    }\n",
    "\n",
    "    for metric, pattern in patterns.items():\n",
    "        match = re.search(pattern, response_text)\n",
    "        value = match.group(1) if match else \"N/A\"\n",
    "        data_extracted[\"Value\"].append(value)\n",
    "\n",
    "    return pd.DataFrame(data_extracted)\n"
   ]
  },
  {
   "cell_type": "markdown",
   "id": "eb939cef",
   "metadata": {},
   "source": [
    "## 7️⃣ Generate AI Insights on Stock Trends"
   ]
  },
  {
   "cell_type": "code",
   "execution_count": 28,
   "id": "8f2c75bd-71df-440b-ac9f-fdc7d5b9deb7",
   "metadata": {},
   "outputs": [
    {
     "name": "stdout",
     "output_type": "stream",
     "text": [
      "RunResult(input=\"Search for 'IBM stock price site:finance.yahoo.com' and extract the latest closing price, 50-day SMA, 200-day SMA, and volatility.\", new_items=[ToolCallItem(agent=Agent(name='StockAnalysisAgent', instructions='Fetch real-time stock data from Yahoo Finance, analyze trends, and provide insights.', handoff_description=None, handoffs=[], model=None, model_settings=ModelSettings(temperature=None, top_p=None, frequency_penalty=None, presence_penalty=None, tool_choice=None, parallel_tool_calls=False, truncation=None, max_tokens=None), tools=[WebSearchTool(user_location=None, search_context_size='medium')], input_guardrails=[], output_guardrails=[], output_type=None, hooks=None), raw_item=ResponseFunctionWebSearch(id='ws_67d49e813854819187a1a47c3dc5f1fa07b0e21157208d60', status='completed', type='web_search_call'), type='tool_call_item'), MessageOutputItem(agent=Agent(name='StockAnalysisAgent', instructions='Fetch real-time stock data from Yahoo Finance, analyze trends, and provide insights.', handoff_description=None, handoffs=[], model=None, model_settings=ModelSettings(temperature=None, top_p=None, frequency_penalty=None, presence_penalty=None, tool_choice=None, parallel_tool_calls=False, truncation=None, max_tokens=None), tools=[WebSearchTool(user_location=None, search_context_size='medium')], input_guardrails=[], output_guardrails=[], output_type=None, hooks=None), raw_item=ResponseOutputMessage(id='msg_67d49e834ec48191aa45dcfee56afc9b07b0e21157208d60', content=[ResponseOutputText(annotations=[AnnotationURLCitation(end_index=894, start_index=767, title='International Business Machines Corporation (IBM) Stock Price, News, Quote & History - Yahoo Finance', type='url_citation', url='https://finance.yahoo.com/quote/IBM/?ncid=yahooproperties_stockrecom_g40boan2td8&p=IBM&utm_source=openai')], text=\"As of March 14, 2025, IBM's stock performance is as follows:\\n\\n- **Latest Closing Price**: $217.70\\n- **Previous Close**: $213.89\\n- **Open**: $214.33\\n- **Day's Range**: $213.74 - $217.85\\n- **52-Week Range**: $135.87 - $218.84\\n- **Volume**: 3,875,121\\n- **Average Volume**: 3,637,512\\n- **Market Cap**: $200.534 billion\\n- **Beta (5Y Monthly)**: 0.69\\n- **PE Ratio (TTM)**: 24.03\\n- **EPS (TTM)**: $9.06\\n- **Forward Dividend & Yield**: $6.68 (3.07%)\\n- **Ex-Dividend Date**: August 9, 2024\\n- **1-Year Target Estimate**: $194.43\\n\\nPlease note that specific values for the 50-day and 200-day Simple Moving Averages (SMA) and volatility are not provided in the available data. For the most accurate and up-to-date information, I recommend visiting IBM's profile on Yahoo Finance: ([finance.yahoo.com](https://finance.yahoo.com/quote/IBM/?ncid=yahooproperties_stockrecom_g40boan2td8&p=IBM&utm_source=openai)). \", type='output_text')], role='assistant', status='completed', type='message'), type='message_output_item')], raw_responses=[ModelResponse(output=[ResponseFunctionWebSearch(id='ws_67d49e813854819187a1a47c3dc5f1fa07b0e21157208d60', status='completed', type='web_search_call'), ResponseOutputMessage(id='msg_67d49e834ec48191aa45dcfee56afc9b07b0e21157208d60', content=[ResponseOutputText(annotations=[AnnotationURLCitation(end_index=894, start_index=767, title='International Business Machines Corporation (IBM) Stock Price, News, Quote & History - Yahoo Finance', type='url_citation', url='https://finance.yahoo.com/quote/IBM/?ncid=yahooproperties_stockrecom_g40boan2td8&p=IBM&utm_source=openai')], text=\"As of March 14, 2025, IBM's stock performance is as follows:\\n\\n- **Latest Closing Price**: $217.70\\n- **Previous Close**: $213.89\\n- **Open**: $214.33\\n- **Day's Range**: $213.74 - $217.85\\n- **52-Week Range**: $135.87 - $218.84\\n- **Volume**: 3,875,121\\n- **Average Volume**: 3,637,512\\n- **Market Cap**: $200.534 billion\\n- **Beta (5Y Monthly)**: 0.69\\n- **PE Ratio (TTM)**: 24.03\\n- **EPS (TTM)**: $9.06\\n- **Forward Dividend & Yield**: $6.68 (3.07%)\\n- **Ex-Dividend Date**: August 9, 2024\\n- **1-Year Target Estimate**: $194.43\\n\\nPlease note that specific values for the 50-day and 200-day Simple Moving Averages (SMA) and volatility are not provided in the available data. For the most accurate and up-to-date information, I recommend visiting IBM's profile on Yahoo Finance: ([finance.yahoo.com](https://finance.yahoo.com/quote/IBM/?ncid=yahooproperties_stockrecom_g40boan2td8&p=IBM&utm_source=openai)). \", type='output_text')], role='assistant', status='completed', type='message')], usage=Usage(requests=1, input_tokens=371, output_tokens=326, total_tokens=697), referenceable_id='resp_67d49e80a0e8819182b36e9a057f759607b0e21157208d60')], final_output=\"As of March 14, 2025, IBM's stock performance is as follows:\\n\\n- **Latest Closing Price**: $217.70\\n- **Previous Close**: $213.89\\n- **Open**: $214.33\\n- **Day's Range**: $213.74 - $217.85\\n- **52-Week Range**: $135.87 - $218.84\\n- **Volume**: 3,875,121\\n- **Average Volume**: 3,637,512\\n- **Market Cap**: $200.534 billion\\n- **Beta (5Y Monthly)**: 0.69\\n- **PE Ratio (TTM)**: 24.03\\n- **EPS (TTM)**: $9.06\\n- **Forward Dividend & Yield**: $6.68 (3.07%)\\n- **Ex-Dividend Date**: August 9, 2024\\n- **1-Year Target Estimate**: $194.43\\n\\nPlease note that specific values for the 50-day and 200-day Simple Moving Averages (SMA) and volatility are not provided in the available data. For the most accurate and up-to-date information, I recommend visiting IBM's profile on Yahoo Finance: ([finance.yahoo.com](https://finance.yahoo.com/quote/IBM/?ncid=yahooproperties_stockrecom_g40boan2td8&p=IBM&utm_source=openai)). \", input_guardrail_results=[], output_guardrail_results=[], _last_agent=Agent(name='StockAnalysisAgent', instructions='Fetch real-time stock data from Yahoo Finance, analyze trends, and provide insights.', handoff_description=None, handoffs=[], model=None, model_settings=ModelSettings(temperature=None, top_p=None, frequency_penalty=None, presence_penalty=None, tool_choice=None, parallel_tool_calls=False, truncation=None, max_tokens=None), tools=[WebSearchTool(user_location=None, search_context_size='medium')], input_guardrails=[], output_guardrails=[], output_type=None, hooks=None))\n"
     ]
    }
   ],
   "source": [
    "ticker = \"IBM\"  # Example stock\n",
    "response = await get_stock_data_from_web(ticker)\n",
    "print(response)"
   ]
  },
  {
   "cell_type": "code",
   "execution_count": 32,
   "id": "eae0f602-fe7e-4d76-8097-6a669bd60071",
   "metadata": {},
   "outputs": [
    {
     "name": "stdout",
     "output_type": "stream",
     "text": [
      "As of March 14, 2025, IBM's stock performance is as follows:\n",
      "\n",
      "- **Latest Closing Price**: $217.70\n",
      "- **Previous Close**: $213.89\n",
      "- **Open**: $214.33\n",
      "- **Day's Range**: $213.74 - $217.85\n",
      "- **52-Week Range**: $135.87 - $218.84\n",
      "- **Volume**: 3,875,121\n",
      "- **Average Volume**: 3,637,512\n",
      "- **Market Cap**: $200.534 billion\n",
      "- **Beta (5Y Monthly)**: 0.69\n",
      "- **PE Ratio (TTM)**: 24.03\n",
      "- **EPS (TTM)**: $9.06\n",
      "- **Forward Dividend & Yield**: $6.68 (3.07%)\n",
      "- **Ex-Dividend Date**: August 9, 2024\n",
      "- **1-Year Target Estimate**: $194.43\n",
      "\n",
      "Please note that specific values for the 50-day and 200-day Simple Moving Averages (SMA) and volatility are not provided in the available data. For the most accurate and up-to-date information, I recommend visiting IBM's profile on Yahoo Finance: ([finance.yahoo.com](https://finance.yahoo.com/quote/IBM/?ncid=yahooproperties_stockrecom_g40boan2td8&p=IBM&utm_source=openai)). \n"
     ]
    }
   ],
   "source": [
    "response_text = response.final_output\n",
    "print(response_text)"
   ]
  },
  {
   "cell_type": "code",
   "execution_count": 34,
   "id": "b47082e2-bb8b-4a19-b40c-8f14554e795a",
   "metadata": {},
   "outputs": [
    {
     "name": "stdout",
     "output_type": "stream",
     "text": [
      " AI Insights for IBM:\n",
      "RunResult(input=\"\\nAnalyze the stock IBM based on the latest available data:\\nAs of March 14, 2025, IBM's stock performance is as follows:\\n\\n- **Latest Closing Price**: $217.70\\n- **Previous Close**: $213.89\\n- **Open**: $214.33\\n- **Day's Range**: $213.74 - $217.85\\n- **52-Week Range**: $135.87 - $218.84\\n- **Volume**: 3,875,121\\n- **Average Volume**: 3,637,512\\n- **Market Cap**: $200.534 billion\\n- **Beta (5Y Monthly)**: 0.69\\n- **PE Ratio (TTM)**: 24.03\\n- **EPS (TTM)**: $9.06\\n- **Forward Dividend & Yield**: $6.68 (3.07%)\\n- **Ex-Dividend Date**: August 9, 2024\\n- **1-Year Target Estimate**: $194.43\\n\\nPlease note that specific values for the 50-day and 200-day Simple Moving Averages (SMA) and volatility are not provided in the available data. For the most accurate and up-to-date information, I recommend visiting IBM's profile on Yahoo Finance: ([finance.yahoo.com](https://finance.yahoo.com/quote/IBM/?ncid=yahooproperties_stockrecom_g40boan2td8&p=IBM&utm_source=openai)). \\n\\nProvide insights on the stock's short-term and long-term trends.\\n\", new_items=[MessageOutputItem(agent=Agent(name='StockAnalysisAgent', instructions='Fetch real-time stock data from Yahoo Finance, analyze trends, and provide insights.', handoff_description=None, handoffs=[], model=None, model_settings=ModelSettings(temperature=None, top_p=None, frequency_penalty=None, presence_penalty=None, tool_choice=None, parallel_tool_calls=False, truncation=None, max_tokens=None), tools=[WebSearchTool(user_location=None, search_context_size='medium')], input_guardrails=[], output_guardrails=[], output_type=None, hooks=None), raw_item=ResponseOutputMessage(id='msg_67d49fa4f3f08191a74ad06cfe6d32610fe3306bee96dd0b', content=[ResponseOutputText(annotations=[], text=\"Based on the provided data, let's analyze IBM's stock performance:\\n\\n### Short-Term Analysis\\n\\n1. **Recent Performance**: \\n   - The stock closed at $217.70, up from the previous close of $213.89, indicating positive momentum in the short term.\\n   - The opening price ($214.33) was below the closing price, suggesting a rise throughout the day.\\n\\n2. **Day's Range**:\\n   - The day's range ($213.74 - $217.85) shows some volatility, with a peak close to the 52-week high.\\n\\n3. **Volume**:\\n   - The trading volume (3,875,121) is slightly above the average volume (3,637,512), suggesting increased investor interest.\\n\\n### Long-Term Analysis\\n\\n1. **52-Week Range**:\\n   - The stock is trading near the upper end of its 52-week range ($135.87 - $218.84), indicating strong performance over the year.\\n\\n2. **Market Cap**:\\n   - A market cap of $200.534 billion reflects IBM’s position as a well-established company, attracting long-term investors.\\n\\n3. **Beta**:\\n   - A beta of 0.69 suggests IBM is less volatile than the market, making it a potentially stable investment during market fluctuations.\\n\\n4. **PE Ratio & EPS**:\\n   - The PE ratio of 24.03 indicates a reasonable valuation compared to earnings. An EPS of $9.06 showcases solid profitability.\\n\\n5. **Dividends**:\\n   - With a forward dividend yield of 3.07%, it's attractive for income-focused investors.\\n\\n6. **1-Year Target Estimate**:\\n   - The target estimate of $194.43 suggests that analysts anticipate a potential decline from the current level, which could reflect caution about future growth or market conditions.\\n\\n### Insights\\n\\n- **Positive Short-Term Outlook**: Recent price increases and trading volume indicate positive short-term sentiment.\\n  \\n- **Potential Long-Term Caution**: Despite strong yearly performance, the 1-year target estimate suggests conservative expectations for future growth.\\n\\n- **Investment Considerations**:\\n  - **For Growth Investors**: The stock's proximity to its 52-week high warrants careful examination of growth prospects.\\n  - **For Income Investors**: Attractive dividend yield can be appealing for those interested in income generation.\\n\\nOverall, while IBM's stock shows strong current performance, investors should consider broader market conditions and individual financial goals when making decisions.\", type='output_text')], role='assistant', status='completed', type='message'), type='message_output_item')], raw_responses=[ModelResponse(output=[ResponseOutputMessage(id='msg_67d49fa4f3f08191a74ad06cfe6d32610fe3306bee96dd0b', content=[ResponseOutputText(annotations=[], text=\"Based on the provided data, let's analyze IBM's stock performance:\\n\\n### Short-Term Analysis\\n\\n1. **Recent Performance**: \\n   - The stock closed at $217.70, up from the previous close of $213.89, indicating positive momentum in the short term.\\n   - The opening price ($214.33) was below the closing price, suggesting a rise throughout the day.\\n\\n2. **Day's Range**:\\n   - The day's range ($213.74 - $217.85) shows some volatility, with a peak close to the 52-week high.\\n\\n3. **Volume**:\\n   - The trading volume (3,875,121) is slightly above the average volume (3,637,512), suggesting increased investor interest.\\n\\n### Long-Term Analysis\\n\\n1. **52-Week Range**:\\n   - The stock is trading near the upper end of its 52-week range ($135.87 - $218.84), indicating strong performance over the year.\\n\\n2. **Market Cap**:\\n   - A market cap of $200.534 billion reflects IBM’s position as a well-established company, attracting long-term investors.\\n\\n3. **Beta**:\\n   - A beta of 0.69 suggests IBM is less volatile than the market, making it a potentially stable investment during market fluctuations.\\n\\n4. **PE Ratio & EPS**:\\n   - The PE ratio of 24.03 indicates a reasonable valuation compared to earnings. An EPS of $9.06 showcases solid profitability.\\n\\n5. **Dividends**:\\n   - With a forward dividend yield of 3.07%, it's attractive for income-focused investors.\\n\\n6. **1-Year Target Estimate**:\\n   - The target estimate of $194.43 suggests that analysts anticipate a potential decline from the current level, which could reflect caution about future growth or market conditions.\\n\\n### Insights\\n\\n- **Positive Short-Term Outlook**: Recent price increases and trading volume indicate positive short-term sentiment.\\n  \\n- **Potential Long-Term Caution**: Despite strong yearly performance, the 1-year target estimate suggests conservative expectations for future growth.\\n\\n- **Investment Considerations**:\\n  - **For Growth Investors**: The stock's proximity to its 52-week high warrants careful examination of growth prospects.\\n  - **For Income Investors**: Attractive dividend yield can be appealing for those interested in income generation.\\n\\nOverall, while IBM's stock shows strong current performance, investors should consider broader market conditions and individual financial goals when making decisions.\", type='output_text')], role='assistant', status='completed', type='message')], usage=Usage(requests=1, input_tokens=667, output_tokens=506, total_tokens=1173), referenceable_id='resp_67d49fa4692481918c40bcbfc159d0ae0fe3306bee96dd0b')], final_output=\"Based on the provided data, let's analyze IBM's stock performance:\\n\\n### Short-Term Analysis\\n\\n1. **Recent Performance**: \\n   - The stock closed at $217.70, up from the previous close of $213.89, indicating positive momentum in the short term.\\n   - The opening price ($214.33) was below the closing price, suggesting a rise throughout the day.\\n\\n2. **Day's Range**:\\n   - The day's range ($213.74 - $217.85) shows some volatility, with a peak close to the 52-week high.\\n\\n3. **Volume**:\\n   - The trading volume (3,875,121) is slightly above the average volume (3,637,512), suggesting increased investor interest.\\n\\n### Long-Term Analysis\\n\\n1. **52-Week Range**:\\n   - The stock is trading near the upper end of its 52-week range ($135.87 - $218.84), indicating strong performance over the year.\\n\\n2. **Market Cap**:\\n   - A market cap of $200.534 billion reflects IBM’s position as a well-established company, attracting long-term investors.\\n\\n3. **Beta**:\\n   - A beta of 0.69 suggests IBM is less volatile than the market, making it a potentially stable investment during market fluctuations.\\n\\n4. **PE Ratio & EPS**:\\n   - The PE ratio of 24.03 indicates a reasonable valuation compared to earnings. An EPS of $9.06 showcases solid profitability.\\n\\n5. **Dividends**:\\n   - With a forward dividend yield of 3.07%, it's attractive for income-focused investors.\\n\\n6. **1-Year Target Estimate**:\\n   - The target estimate of $194.43 suggests that analysts anticipate a potential decline from the current level, which could reflect caution about future growth or market conditions.\\n\\n### Insights\\n\\n- **Positive Short-Term Outlook**: Recent price increases and trading volume indicate positive short-term sentiment.\\n  \\n- **Potential Long-Term Caution**: Despite strong yearly performance, the 1-year target estimate suggests conservative expectations for future growth.\\n\\n- **Investment Considerations**:\\n  - **For Growth Investors**: The stock's proximity to its 52-week high warrants careful examination of growth prospects.\\n  - **For Income Investors**: Attractive dividend yield can be appealing for those interested in income generation.\\n\\nOverall, while IBM's stock shows strong current performance, investors should consider broader market conditions and individual financial goals when making decisions.\", input_guardrail_results=[], output_guardrail_results=[], _last_agent=Agent(name='StockAnalysisAgent', instructions='Fetch real-time stock data from Yahoo Finance, analyze trends, and provide insights.', handoff_description=None, handoffs=[], model=None, model_settings=ModelSettings(temperature=None, top_p=None, frequency_penalty=None, presence_penalty=None, tool_choice=None, parallel_tool_calls=False, truncation=None, max_tokens=None), tools=[WebSearchTool(user_location=None, search_context_size='medium')], input_guardrails=[], output_guardrails=[], output_type=None, hooks=None))\n"
     ]
    }
   ],
   "source": [
    " # Construct AI analysis prompt\n",
    "prompt = f\"\"\"\n",
    "Analyze the stock {ticker} based on the latest available data:\n",
    "{response_text}\n",
    "\n",
    "Provide insights on the stock's short-term and long-term trends.\n",
    "\"\"\"\n",
    "\n",
    "# Run the AI analysis\n",
    "insights = await Runner.run(stock_agent, prompt)\n",
    "print(f\" AI Insights for {ticker}:\\n{insights}\")"
   ]
  },
  {
   "cell_type": "code",
   "execution_count": 35,
   "id": "dde48eec-284f-4b2b-9484-9d9487077fdc",
   "metadata": {},
   "outputs": [
    {
     "name": "stdout",
     "output_type": "stream",
     "text": [
      "Based on the provided data, let's analyze IBM's stock performance:\n",
      "\n",
      "### Short-Term Analysis\n",
      "\n",
      "1. **Recent Performance**: \n",
      "   - The stock closed at $217.70, up from the previous close of $213.89, indicating positive momentum in the short term.\n",
      "   - The opening price ($214.33) was below the closing price, suggesting a rise throughout the day.\n",
      "\n",
      "2. **Day's Range**:\n",
      "   - The day's range ($213.74 - $217.85) shows some volatility, with a peak close to the 52-week high.\n",
      "\n",
      "3. **Volume**:\n",
      "   - The trading volume (3,875,121) is slightly above the average volume (3,637,512), suggesting increased investor interest.\n",
      "\n",
      "### Long-Term Analysis\n",
      "\n",
      "1. **52-Week Range**:\n",
      "   - The stock is trading near the upper end of its 52-week range ($135.87 - $218.84), indicating strong performance over the year.\n",
      "\n",
      "2. **Market Cap**:\n",
      "   - A market cap of $200.534 billion reflects IBM’s position as a well-established company, attracting long-term investors.\n",
      "\n",
      "3. **Beta**:\n",
      "   - A beta of 0.69 suggests IBM is less volatile than the market, making it a potentially stable investment during market fluctuations.\n",
      "\n",
      "4. **PE Ratio & EPS**:\n",
      "   - The PE ratio of 24.03 indicates a reasonable valuation compared to earnings. An EPS of $9.06 showcases solid profitability.\n",
      "\n",
      "5. **Dividends**:\n",
      "   - With a forward dividend yield of 3.07%, it's attractive for income-focused investors.\n",
      "\n",
      "6. **1-Year Target Estimate**:\n",
      "   - The target estimate of $194.43 suggests that analysts anticipate a potential decline from the current level, which could reflect caution about future growth or market conditions.\n",
      "\n",
      "### Insights\n",
      "\n",
      "- **Positive Short-Term Outlook**: Recent price increases and trading volume indicate positive short-term sentiment.\n",
      "  \n",
      "- **Potential Long-Term Caution**: Despite strong yearly performance, the 1-year target estimate suggests conservative expectations for future growth.\n",
      "\n",
      "- **Investment Considerations**:\n",
      "  - **For Growth Investors**: The stock's proximity to its 52-week high warrants careful examination of growth prospects.\n",
      "  - **For Income Investors**: Attractive dividend yield can be appealing for those interested in income generation.\n",
      "\n",
      "Overall, while IBM's stock shows strong current performance, investors should consider broader market conditions and individual financial goals when making decisions.\n"
     ]
    }
   ],
   "source": [
    "print(insights.final_output)"
   ]
  },
  {
   "cell_type": "code",
   "execution_count": null,
   "id": "e20a29b4-86ce-4a99-8e59-e6956759bcfa",
   "metadata": {},
   "outputs": [],
   "source": []
  }
 ],
 "metadata": {
  "kernelspec": {
   "display_name": "Python 3 (ipykernel)",
   "language": "python",
   "name": "python3"
  },
  "language_info": {
   "codemirror_mode": {
    "name": "ipython",
    "version": 3
   },
   "file_extension": ".py",
   "mimetype": "text/x-python",
   "name": "python",
   "nbconvert_exporter": "python",
   "pygments_lexer": "ipython3",
   "version": "3.9.11"
  }
 },
 "nbformat": 4,
 "nbformat_minor": 5
}
